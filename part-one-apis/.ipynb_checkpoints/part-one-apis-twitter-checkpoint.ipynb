{
 "cells": [
  {
   "cell_type": "markdown",
   "metadata": {},
   "source": [
    "# Part One - APIs - Retrieve Data From Twitter\n",
    "\n",
    "* Tested with Python 2.7.9\n",
    "* This code assumes that you've created an application on Twitter at: https://apps.twitter.com/\n",
    "* Also, install the Twitter python library using: pip install python-twitter\n",
    "* For more information on the python-twitter library: https://pypi.python.org/pypi/python-twitter/"
   ]
  },
  {
   "cell_type": "code",
   "execution_count": null,
   "metadata": {
    "collapsed": true
   },
   "outputs": [],
   "source": [
    "# Import everything we need\n",
    "\n",
    "import twitter\n",
    "import csv\n",
    "from datetime import datetime"
   ]
  },
  {
   "cell_type": "code",
   "execution_count": null,
   "metadata": {
    "collapsed": false
   },
   "outputs": [],
   "source": [
    "# Use the Twitter OAuth credentials from the app you created to receive an access token to access your own data\n",
    "\n",
    "api = twitter.Api(consumer_key='',\n",
    "                  consumer_secret='',\n",
    "                  access_token_key='',\n",
    "                  access_token_secret='')\n",
    "\n",
    "# Verify that your credentials are working\n",
    "print(api.VerifyCredentials())"
   ]
  },
  {
   "cell_type": "code",
   "execution_count": null,
   "metadata": {
    "collapsed": false
   },
   "outputs": [],
   "source": [
    "\n",
    "# Fetch a single user's public status\n",
    "statuses = api.GetUserTimeline(screen_name='rdempsey')\n",
    "for s in statuses:\n",
    "    print(s.text)"
   ]
  },
  {
   "cell_type": "code",
   "execution_count": null,
   "metadata": {
    "collapsed": false
   },
   "outputs": [],
   "source": [
    "user = api.GetUser(screen_name='rdempsey')\n",
    "\n",
    "# Print out the entire user object\n",
    "# If you're using SublimeText2, you can easily format it with this plugin: https://github.com/dzhibas/SublimePrettyJson\n",
    "# print(user)\n",
    "\n",
    "# Print out a few of the available attributes\n",
    "# No prettytable here, yet\n",
    "print(\"Name: {}\".format(user.name))\n",
    "print(\"Geo Enabled: {}\".format(user.geo_enabled))\n",
    "print(\"Description: {}\".format(user.description))\n",
    "print(\"Follower Count: {}\".format(user.followers_count))\n",
    "print(\"Friend Count: {}\".format(user.friends_count))\n",
    "print(\"Verified: {}\".format(user.verified))"
   ]
  },
  {
   "cell_type": "code",
   "execution_count": null,
   "metadata": {
    "collapsed": false
   },
   "outputs": [],
   "source": [
    "# Print out the entire user object as a dictionary\n",
    "print(user.AsDict())"
   ]
  },
  {
   "cell_type": "code",
   "execution_count": null,
   "metadata": {
    "collapsed": false
   },
   "outputs": [],
   "source": [
    "# Make it look nicer\n",
    "for key, value in user.AsDict().items():\n",
    "    print(key, value)    "
   ]
  },
  {
   "cell_type": "code",
   "execution_count": null,
   "metadata": {
    "collapsed": false
   },
   "outputs": [],
   "source": [
    "# Getting the information for one user is great, but getting the information for many is even better\n",
    "# Save everything we can do a CSV, including the date we created the record.\n",
    "# You never know what you'll want for a later analysis.\n",
    "\n",
    "profiles_to_retrieve = ['rdempsey', 'DataWranglersDC', 'DataCommunityDC', 'datasocietyco', 'boboroshi']\n",
    "\n",
    "with open('twitter_user_data.csv', 'wb') as csvfile:\n",
    "    writer = csv.writer(csvfile, delimiter=',', quotechar='\"', quoting=csv.QUOTE_ALL)\n",
    "    writer.writerow(['id', 'screen_name', 'name', 'description', 'location', 'lang', 'geo_enabled', \n",
    "                     'favourites_count', 'followers_count', 'friends_count', 'listed_count', 'default_profile_image',\n",
    "                     'account_created_at', 'time_zone', 'url', 'statuses_count', 'profile_background_color', \n",
    "                     'profile_background_image_url', 'profile_background_tile', 'profile_banner_url', 'profile_image_url', \n",
    "                     'profile_link_color', 'profile_sidebar_fill_color', 'profile_text_color', 'protected', 'created_at'])\n",
    "    for u in profiles_to_retrieve:\n",
    "        user = api.GetUser(screen_name='{}'.format(u))\n",
    "        writer.writerow([user.id, user.screen_name, user.name, user.description, user.location, user.lang, user.geo_enabled,\n",
    "                         user.favourites_count, user.followers_count, user.friends_count, user.listed_count, user.default_profile_image,\n",
    "                         user.created_at, user.time_zone, user.url, user.statuses_count, user.profile_background_color,\n",
    "                         user.profile_background_image_url, user.profile_background_tile, user.profile_banner_url,\n",
    "                         user.profile_image_url, user.profile_link_color, user.profile_sidebar_fill_color,\n",
    "                         user.profile_text_color, user.protected, datetime.strftime(datetime.now(), '%Y-%m-%d %H:%M:%S')])\n",
    "\n",
    "# So we know that the CSV file was indeed created\n",
    "print(\"CSV creation complete\")"
   ]
  },
  {
   "cell_type": "code",
   "execution_count": null,
   "metadata": {
    "collapsed": false
   },
   "outputs": [],
   "source": []
  }
 ],
 "metadata": {
  "kernelspec": {
   "display_name": "Python 2",
   "language": "python",
   "name": "python2"
  },
  "language_info": {
   "codemirror_mode": {
    "name": "ipython",
    "version": 2
   },
   "file_extension": ".py",
   "mimetype": "text/x-python",
   "name": "python",
   "nbconvert_exporter": "python",
   "pygments_lexer": "ipython2",
   "version": "2.7.9"
  }
 },
 "nbformat": 4,
 "nbformat_minor": 0
}
