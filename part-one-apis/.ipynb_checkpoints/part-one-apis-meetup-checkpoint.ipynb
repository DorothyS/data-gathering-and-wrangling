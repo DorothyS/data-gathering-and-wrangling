{
 "cells": [
  {
   "cell_type": "markdown",
   "metadata": {},
   "source": [
    "# Part One - APIs - Retrieve Data From Meetup\n",
    "\n",
    "* Tested with Python 2.7.9\n",
    "* Rather than using a pre-built library we will be using pure json calls and handling\n",
    "* An API key is required. You can get yours here: https://secure.meetup.com/meetup_api/key/\n",
    "* For more information on the Meetup api: http://www.meetup.com/meetup_api/"
   ]
  },
  {
   "cell_type": "code",
   "execution_count": null,
   "metadata": {
    "collapsed": false
   },
   "outputs": [],
   "source": [
    "# Import everything we'll need\n",
    "import json\n",
    "import csv\n",
    "import urllib2"
   ]
  },
  {
   "cell_type": "code",
   "execution_count": null,
   "metadata": {
    "collapsed": false,
    "scrolled": true
   },
   "outputs": [],
   "source": [
    "# First we'll get a list of categories\n",
    "\n",
    "# Your meetup API key. This will be used for all requests.\n",
    "api_key = ''\n",
    "\n",
    "# The base path for calling the api\n",
    "base_path = \"https://api.meetup.com\"\n",
    "\n",
    "# Meetup category path - returns a list of all the categories\n",
    "category_path = '/2/categories'\n",
    "\n",
    "# Build the full url to call\n",
    "url_to_call = base_path + category_path + '?&sign=true&key=' + api_key\n",
    "\n",
    "# Check to be sure we have the right one\n",
    "print(url_to_call)"
   ]
  },
  {
   "cell_type": "code",
   "execution_count": null,
   "metadata": {
    "collapsed": false
   },
   "outputs": [],
   "source": [
    "# Load the JSON response as a python dict\n",
    "category_list = json.load(urllib2.urlopen(url_to_call))\n",
    "\n",
    "# Loop through the results and print them out\n",
    "for result in category_list['results']:\n",
    "    print(result)"
   ]
  },
  {
   "cell_type": "code",
   "execution_count": null,
   "metadata": {
    "collapsed": false
   },
   "outputs": [],
   "source": [
    "# Save the categories to a CSV file\n",
    "with open('meetup_categories.csv', 'wb') as csvfile:\n",
    "    writer = csv.writer(csvfile, delimiter=',', quotechar='\"', quoting=csv.QUOTE_ALL)\n",
    "    writer.writerow(['id', 'shortname', 'name'])\n",
    "    for result in category_list['results']:\n",
    "        writer.writerow([result['id'], \n",
    "                         result['shortname'],\n",
    "                         result['name']])\n",
    "\n",
    "                         # So we know that the CSV file was indeed created\n",
    "print(\"CSV creation complete\")"
   ]
  },
  {
   "cell_type": "code",
   "execution_count": null,
   "metadata": {
    "collapsed": false
   },
   "outputs": [],
   "source": [
    "# Retrieve the members of a Meetup group\n",
    "\n",
    "meetup_members_path = '/2/members'\n",
    "group_url = 'data-wranglers-dc'\n",
    "user_url_to_call = base_path + meetup_members_path + '?&sign=true&key=' + api_key + '&group_urlname=' + group_url\n",
    "\n",
    "print(user_url_to_call)"
   ]
  },
  {
   "cell_type": "code",
   "execution_count": null,
   "metadata": {
    "collapsed": false
   },
   "outputs": [],
   "source": [
    "# Load the JSON response as a python dict\n",
    "dwdc_member_list = json.load(urllib2.urlopen(user_url_to_call))\n",
    "\n",
    "# Loop through the results and print them out\n",
    "for result in dwdc_member_list['results']:\n",
    "    print(result)"
   ]
  },
  {
   "cell_type": "code",
   "execution_count": null,
   "metadata": {
    "collapsed": true
   },
   "outputs": [],
   "source": []
  }
 ],
 "metadata": {
  "kernelspec": {
   "display_name": "Python 2",
   "language": "python",
   "name": "python2"
  },
  "language_info": {
   "codemirror_mode": {
    "name": "ipython",
    "version": 2
   },
   "file_extension": ".py",
   "mimetype": "text/x-python",
   "name": "python",
   "nbconvert_exporter": "python",
   "pygments_lexer": "ipython2",
   "version": "2.7.9"
  }
 },
 "nbformat": 4,
 "nbformat_minor": 0
}
